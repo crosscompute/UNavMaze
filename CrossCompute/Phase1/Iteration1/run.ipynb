{
 "cells": [
  {
   "cell_type": "code",
   "execution_count": 1,
   "metadata": {},
   "outputs": [
    {
     "ename": "ValueError",
     "evalue": "too many values to unpack (expected 2)",
     "output_type": "error",
     "traceback": [
      "\u001b[0;31m---------------------------------------------------------------------------\u001b[0m",
      "\u001b[0;31mValueError\u001b[0m                                Traceback (most recent call last)",
      "\u001b[1;32m/home/hellorahat/Github/NavMaze/CrossCompute/Phase1/Iteration1/run.ipynb Cell 1\u001b[0m line \u001b[0;36m6\n\u001b[1;32m      <a href='vscode-notebook-cell://wsl%2Bubuntu/home/hellorahat/Github/NavMaze/CrossCompute/Phase1/Iteration1/run.ipynb#W0sdnNjb2RlLXJlbW90ZQ%3D%3D?line=3'>4</a>\u001b[0m \u001b[39mfrom\u001b[39;00m \u001b[39msys\u001b[39;00m \u001b[39mimport\u001b[39;00m argv\n\u001b[1;32m      <a href='vscode-notebook-cell://wsl%2Bubuntu/home/hellorahat/Github/NavMaze/CrossCompute/Phase1/Iteration1/run.ipynb#W0sdnNjb2RlLXJlbW90ZQ%3D%3D?line=4'>5</a>\u001b[0m \u001b[39mfrom\u001b[39;00m \u001b[39mos\u001b[39;00m\u001b[39m.\u001b[39;00m\u001b[39mpath\u001b[39;00m \u001b[39mimport\u001b[39;00m join\n\u001b[0;32m----> <a href='vscode-notebook-cell://wsl%2Bubuntu/home/hellorahat/Github/NavMaze/CrossCompute/Phase1/Iteration1/run.ipynb#W0sdnNjb2RlLXJlbW90ZQ%3D%3D?line=5'>6</a>\u001b[0m input_folder, output_folder \u001b[39m=\u001b[39m argv[\u001b[39m1\u001b[39m:]\n",
      "\u001b[0;31mValueError\u001b[0m: too many values to unpack (expected 2)"
     ]
    }
   ],
   "source": [
    "from os import getenv\n",
    "from pathlib import Path\n",
    "import csv\n",
    "from sys import argv\n",
    "from os.path import join\n",
    "input_folder, output_folder = argv[1:]"
   ]
  },
  {
   "cell_type": "code",
   "execution_count": 2,
   "metadata": {},
   "outputs": [],
   "source": [
    "def csvToList(f):\n",
    "    \"\"\"\n",
    "    Converts CSV file into 2D list format.\n",
    "    :param f (str): The CSV to be converted.\n",
    "    :return: 2D list\n",
    "    \"\"\"\n",
    "    with open(f, 'r') as file:\n",
    "        csvData = list(csv.reader(file))\n",
    "        rowNum = len(csvData)\n",
    "        colNum = len(csvData[0])\n",
    "        mazeList = [[0 for i in range(colNum)] for j in range(rowNum)]\n",
    "        for i in range(rowNum):\n",
    "            colNum = len(csvData[i])\n",
    "            for j in range(colNum):\n",
    "                mazeList[i][j] = csvData[i][j]\n",
    "    return mazeList\n",
    "\n",
    "def validateMaze(mazeList):\n",
    "    \"\"\"\n",
    "    Validates if a 2D list is a maze by checking if the following rules are passed:\n",
    "    - There must be a start and end point.\n",
    "    - There can be no more than one start point.\n",
    "    - There can be no more than one end point.\n",
    "    :param mazeList: The 2D list to be validated.\n",
    "    :return: validation (bool), errors (str)\n",
    "    \"\"\"\n",
    "    validation = True\n",
    "    errors = \"\"\n",
    "    startCount = 0\n",
    "    endCount = 0\n",
    "    for i in range(len(mazeList)):\n",
    "        for j in range(len(mazeList[0])):\n",
    "            if mazeList[i][j] == \"S\":\n",
    "                startCount += 1\n",
    "            elif mazeList[i][j] == \"E\":\n",
    "                endCount += 1\n",
    "    if startCount == 0 or endCount == 0:\n",
    "        validation = False\n",
    "        errors += \"There must be a start and end point.\\n\"\n",
    "    if startCount > 1:\n",
    "        validation = False\n",
    "        errors += \"There can be no more than one start point.\\n\"\n",
    "    if endCount > 1:\n",
    "        validation = False\n",
    "        errors += \"There can be no more than one end point.\\n\"\n",
    "    return validation, errors\n",
    "\n",
    "def displayMaze(mazeList):\n",
    "    \"\"\"\n",
    "    Print out a 2D list in the format of a Maze.\n",
    "    :param mazeList: The 2D list to be printed.\n",
    "    \"\"\"\n",
    "    row = \"\"\n",
    "    for i in range(len(mazeList)):\n",
    "        for j in range(len(mazeList[0])):\n",
    "            if row != \"\":\n",
    "                row += \" \"\n",
    "            if mazeList[i][j] == \"\":\n",
    "                row += \" \"\n",
    "            else:\n",
    "                row += str(mazeList[i][j])\n",
    "        print(row)\n",
    "        row = \"\"\n",
    "\n",
    "def writeMaze(mazeList, fileName):\n",
    "    \"\"\"\n",
    "    Write out a 2D list in the format in a txt file.\n",
    "    :param fileName: The name of the file.\n",
    "    \"\"\"\n",
    "    file = join(output_folder, open(fileName+\".txt\",\"w\"))\n",
    "    for i in range(len(mazeList)):\n",
    "        row = \"\"\n",
    "        for j in range(len(mazeList[0])):\n",
    "            if row != \"\":\n",
    "                row += \" \"\n",
    "            if mazeList[i][j] == \"\":\n",
    "                row += \" \"\n",
    "            else:\n",
    "                row += str(mazeList[i][j])\n",
    "        file.writelines(row)\n",
    "    return file"
   ]
  },
  {
   "cell_type": "code",
   "execution_count": 3,
   "metadata": {},
   "outputs": [
    {
     "ename": "AttributeError",
     "evalue": "'tuple' object has no attribute 'open'",
     "output_type": "error",
     "traceback": [
      "\u001b[0;31m---------------------------------------------------------------------------\u001b[0m",
      "\u001b[0;31mAttributeError\u001b[0m                            Traceback (most recent call last)",
      "\u001b[1;32m/home/hellorahat/Github/NavMaze/CrossCompute/Phase1/Iteration1/run.ipynb Cell 3\u001b[0m line \u001b[0;36m1\n\u001b[0;32m----> <a href='vscode-notebook-cell://wsl%2Bubuntu/home/hellorahat/Github/NavMaze/CrossCompute/Phase1/Iteration1/run.ipynb#W2sdnNjb2RlLXJlbW90ZQ%3D%3D?line=0'>1</a>\u001b[0m \u001b[39mwith\u001b[39;00m(\u001b[39m'\u001b[39;49m\u001b[39mNavMazeExample.csv\u001b[39;49m\u001b[39m'\u001b[39;49m, \u001b[39m'\u001b[39;49m\u001b[39mr\u001b[39;49m\u001b[39m'\u001b[39;49m)\u001b[39m.\u001b[39;49mopen \u001b[39mas\u001b[39;00m file:\n\u001b[1;32m      <a href='vscode-notebook-cell://wsl%2Bubuntu/home/hellorahat/Github/NavMaze/CrossCompute/Phase1/Iteration1/run.ipynb#W2sdnNjb2RlLXJlbW90ZQ%3D%3D?line=1'>2</a>\u001b[0m     mazeList \u001b[39m=\u001b[39m csvToList(\u001b[39m\"\u001b[39m\u001b[39mdata.csv\u001b[39m\u001b[39m\"\u001b[39m)\n\u001b[1;32m      <a href='vscode-notebook-cell://wsl%2Bubuntu/home/hellorahat/Github/NavMaze/CrossCompute/Phase1/Iteration1/run.ipynb#W2sdnNjb2RlLXJlbW90ZQ%3D%3D?line=2'>3</a>\u001b[0m     validation \u001b[39m=\u001b[39m validateMaze(mazeList)\n",
      "\u001b[0;31mAttributeError\u001b[0m: 'tuple' object has no attribute 'open'"
     ]
    }
   ],
   "source": [
    "with(input_folder / 'NavMazeExample.csv', 'r').open as file:\n",
    "    mazeList = csvToList(\"data.csv\")\n",
    "    validation = validateMaze(mazeList)\n",
    "    if validation[0]:\n",
    "        outputFile = writeMaze(mazeList, \"Maze\")\n",
    "    else:\n",
    "        print(validation[1])\n",
    "        exit()"
   ]
  }
 ],
 "metadata": {
  "kernelspec": {
   "display_name": "Python 3",
   "language": "python",
   "name": "python3"
  },
  "language_info": {
   "codemirror_mode": {
    "name": "ipython",
    "version": 3
   },
   "file_extension": ".py",
   "mimetype": "text/x-python",
   "name": "python",
   "nbconvert_exporter": "python",
   "pygments_lexer": "ipython3",
   "version": "3.10.12"
  },
  "orig_nbformat": 4
 },
 "nbformat": 4,
 "nbformat_minor": 2
}
